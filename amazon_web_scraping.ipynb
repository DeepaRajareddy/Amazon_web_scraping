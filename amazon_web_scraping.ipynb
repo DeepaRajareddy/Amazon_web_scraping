{
 "cells": [
  {
   "cell_type": "code",
   "execution_count": null,
   "metadata": {},
   "outputs": [
    {
     "name": "stdout",
     "output_type": "stream",
     "text": [
      "Please enter the author name: Charles Dicksen\n"
     ]
    }
   ],
   "source": [
    "import requests\n",
    "from bs4 import BeautifulSoup\n",
    "from requests.exceptions import ConnectionError\n",
    "\n",
    "#fetching the user_input\n",
    "user_input=input(\"Please enter the author name: \")\n",
    "p=user_input.split(' ')\n",
    "s='+'\n",
    "s=s.join(p)\n",
    "s.replace('',\"\")\n",
    "\n",
    "#fetching the details from the web page based on user_input\n",
    "number_of_pages = 2\n",
    "with open(\"results.txt\",'w',encoding=\"utf-8\") as file:\n",
    "\tfor page_number in range(1,number_of_pages+1):\n",
    "\t\ttry:\n",
    "\t\t\t#url=\"https://www.goodreads.com/search?q=\"+s+\"&page=\"+str(page_number)\n",
    "\t\t\turl=\"https://www.goodreads.com/search?q=\"+s+\"&search_type=books&search%5Bfield%5D=author&page=\"+str(page_number)\n",
    "\t\t\tr=requests.get(url)\n",
    "\t\t\t#print(r.text)\n",
    "\t\t\thtml_contents = r.text\n",
    "\t\t\thtml_soup = BeautifulSoup(html_contents, 'html.parser')\n",
    "\n",
    "\t\t\ttable = html_soup.find_all('a',{\"class\":\"bookTitle\"}) \n",
    "\t\t\tfor i in table:\n",
    "\t\t\t\tlink = i.get(\"href\")\n",
    "\t\t\t\tnew_url = \"https://www.goodreads.com\"+link\n",
    "\t\t\t\tnew_r = requests.get(new_url)\n",
    "\t\t\t\tnew_soup = BeautifulSoup(new_r.text, 'html.parser')\n",
    "\t\t\t\t#here i couldn't use select because i was unable to extract text from select\n",
    "\t\t\t\t#fetching the book name\n",
    "\t\t\t\tbook_name= new_soup.select(\"#bookTitle\")               \n",
    "\t\t\t\t#fetching the rating of the book\n",
    "\t\t\t\trating = new_soup.select(\".notranslate+ span\")\n",
    "\t\t\t\t#fetching the reviews of the book\n",
    "\t\t\t\treview_list = new_soup.select(\"#bookReviews .readable span\")\n",
    "\t\t\t\ttimes = 0\n",
    "\t\t\t\treviews = []\n",
    "\t\t\t\tfor index in review_list:\n",
    "\t\t\t\t\treviews.append(index.text)\n",
    "\t\t\t\t\ttimes+=1\n",
    "\t\t\t\t\tif times==4:\n",
    "\t\t\t\t\t\tbreak\n",
    "\t\t\t\t#form the dictionary of required info and add to the list\n",
    "\t\t\t\tfile.write(\"\\nBook_Title:\"+ str(book_name[0].text))\n",
    "\t\t\t\t#print(book_name[0])                \n",
    "\t\t\t\tfile.write(\"Rating:\" +rating[0].text)\n",
    "\t\t\t\tfile.write(\"reviews:\\n\")\n",
    "\t\t\t\tfor i in range(1,len(reviews)):\n",
    "\t\t\t\t\tfile.write(\"\\t\"+str(i)+\".\"+str(reviews[i])+\"\\n\")\n",
    "\t\t\t\t\t#print(i)\n",
    "\t\t\t\t\t#print(reviews[i])\n",
    "\t\texcept ConnectionError as e:\n",
    "\t\t\tprint(e)\n",
    "\tfile.close()\n"
   ]
  },
  {
   "cell_type": "code",
   "execution_count": null,
   "metadata": {},
   "outputs": [],
   "source": []
  }
 ],
 "metadata": {
  "kernelspec": {
   "display_name": "Python 3",
   "language": "python",
   "name": "python3"
  },
  "language_info": {
   "codemirror_mode": {
    "name": "ipython",
    "version": 3
   },
   "file_extension": ".py",
   "mimetype": "text/x-python",
   "name": "python",
   "nbconvert_exporter": "python",
   "pygments_lexer": "ipython3",
   "version": "3.8.3"
  }
 },
 "nbformat": 4,
 "nbformat_minor": 4
}
